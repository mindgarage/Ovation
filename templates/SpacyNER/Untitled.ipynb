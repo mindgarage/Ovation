{
 "cells": [
  {
   "cell_type": "code",
   "execution_count": 2,
   "metadata": {
    "collapsed": false
   },
   "outputs": [
    {
     "ename": "ImportError",
     "evalue": "No module named spacy",
     "output_type": "error",
     "traceback": [
      "\u001b[0;31m---------------------------------------------------------------------------\u001b[0m",
      "\u001b[0;31mImportError\u001b[0m                               Traceback (most recent call last)",
      "\u001b[0;32m<ipython-input-2-c82df4372711>\u001b[0m in \u001b[0;36m<module>\u001b[0;34m()\u001b[0m\n\u001b[1;32m      2\u001b[0m \u001b[0;34m\u001b[0m\u001b[0m\n\u001b[1;32m      3\u001b[0m \u001b[0;32mimport\u001b[0m \u001b[0mio\u001b[0m\u001b[0;34m\u001b[0m\u001b[0m\n\u001b[0;32m----> 4\u001b[0;31m \u001b[0;32mimport\u001b[0m \u001b[0mspacy\u001b[0m\u001b[0;34m\u001b[0m\u001b[0m\n\u001b[0m\u001b[1;32m      5\u001b[0m \u001b[0;32mimport\u001b[0m \u001b[0mGetNames\u001b[0m\u001b[0;34m\u001b[0m\u001b[0m\n\u001b[1;32m      6\u001b[0m \u001b[0;32mimport\u001b[0m \u001b[0mAddressTokens\u001b[0m\u001b[0;34m\u001b[0m\u001b[0m\n",
      "\u001b[0;31mImportError\u001b[0m: No module named spacy"
     ]
    }
   ],
   "source": [
    "from __future__ import unicode_literals, print_function\n",
    "\n",
    "import io\n",
    "import spacy\n",
    "import GetNames\n",
    "import AddressTokens\n",
    "\n",
    "def nerRec(model, ent_TAG, test_sent):\n",
    "    nlp = spacy.load('en', path=model)\n",
    "    doc = nlp(test_sent)\n",
    "    address=\"\"\n",
    "    for ent in doc.ents:\n",
    "        print(ent.label_.upper()+':', ent.text)\n",
    "        if ent.label_.upper() == ent_TAG.upper():\n",
    "            address = ent.text\n",
    "            print(address)\n",
    "        #print(type(doc))\n",
    "    #print(type(doc.ents))\n",
    "    area=GetNames.detectEntities(test_sent)\n",
    "    date=GetNames.detectDate(test_sent)\n",
    "    print(\"Area: \",area)\n",
    "    print(\"Date: \",date)\n",
    "    \n",
    "    zipCode,StreetNum,StreetName=AddressTokens.findAddressTokens(address)\n",
    "    print(zipCode)\n",
    "    print(StreetNum)\n",
    "    print(StreetName)\n",
    "\n",
    "    tup = (\"Area\",area,\"StreetName\",StreetName,\"StreetNum\",StreetNum,\"ZipCode\",zipCode,\"Date\",date)\n",
    "    print('$$$$$$$$')\n",
    "    print(tup)\n",
    "    return tup\n",
    "\n",
    "def main(modelB,ent_TAG_B, st):\n",
    "  #  lines = [line.rstrip('\\n') for line in io.open(fname, encoding='utf8')]\n",
    "   # for i in range(len(lines)):\n",
    "    #test_sent=lines[i]\n",
    "    test_sent=st\n",
    "    print(test_sent)\n",
    "    #nerRec(modelA, ent_TAG_A, test_sent)\n",
    "    tup=nerRec(modelB, ent_TAG_B, test_sent)\n",
    "    return tup\n",
    "\n",
    "\n",
    "def testString(model,ent_TAG,s):\n",
    "    print(s)\n",
    "    nerRec(model,ent_TAG,s)\n",
    "\n",
    "\n",
    "if __name__ == '__main__':\n",
    "    import plac\n",
    "    plac.call(main)"
   ]
  },
  {
   "cell_type": "code",
   "execution_count": null,
   "metadata": {
    "collapsed": true
   },
   "outputs": [],
   "source": []
  }
 ],
 "metadata": {
  "kernelspec": {
   "display_name": "Python 2",
   "language": "python",
   "name": "python2"
  },
  "language_info": {
   "codemirror_mode": {
    "name": "ipython",
    "version": 2
   },
   "file_extension": ".py",
   "mimetype": "text/x-python",
   "name": "python",
   "nbconvert_exporter": "python",
   "pygments_lexer": "ipython2",
   "version": "2.7.6"
  }
 },
 "nbformat": 4,
 "nbformat_minor": 2
}
